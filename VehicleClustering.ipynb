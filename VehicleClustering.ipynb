{
 "cells": [
  {
   "cell_type": "markdown",
   "id": "6f6cb88d",
   "metadata": {
    "vscode": {
     "languageId": "plaintext"
    }
   },
   "source": [
    "# Part 2: Vehicle Clustering (Unsupervised Learning)\n",
    "\n",
    "**Scenario**\n",
    "\n",
    "You are working for an automotive company, and your task is to cluster vehicles into groups based on their features such as weight, engine size, and horsepower.\n",
    "\n"
   ]
  },
  {
   "cell_type": "code",
   "execution_count": null,
   "id": "23c44ed1",
   "metadata": {},
   "outputs": [],
   "source": [
    "import pandas as pd\n",
    "import numpy as np\n",
    "import matplotlib.pyplot as plt\n",
    "import warnings\n",
    "from sklearn.cluster import KMeans\n",
    "\n",
    "warnings.filterwarnings('ignore')"
   ]
  },
  {
   "cell_type": "code",
   "execution_count": null,
   "id": "989b86e5",
   "metadata": {},
   "outputs": [],
   "source": [
    "# Generate synthetic dataset for vehicles\n",
    "np.random.seed(0)\n",
    "data_size = 300\n",
    "data = {\n",
    "    'Weight': np.random.randint(1000, 3000, data_size),\n",
    "    'EngineSize': np.random.uniform(1.0, 4.0, data_size),\n",
    "    'Horsepower': np.random.randint(50, 300, data_size)\n",
    "}\n",
    "df = pd.DataFrame(data)"
   ]
  },
  {
   "cell_type": "code",
   "execution_count": null,
   "id": "e097c1d9",
   "metadata": {},
   "outputs": [],
   "source": [
    "# No labels are needed for unsupervised learning\n",
    "X = df\n",
    "\n",
    "# Perform KMeans clustering\n",
    "kmeans = KMeans(n_clusters=3, random_state=42)\n",
    "kmeans.fit(X)"
   ]
  },
  {
   "cell_type": "code",
   "execution_count": null,
   "id": "61036de4",
   "metadata": {},
   "outputs": [],
   "source": [
    "# Plotting the clusters\n",
    "plt.scatter(df['Weight'], df['Horsepower'], c=kmeans.labels_)\n",
    "plt.xlabel('Weight')\n",
    "plt.ylabel('Horsepower')\n",
    "plt.title('Vehicle Clusters')\n",
    "plt.show()"
   ]
  }
 ],
 "metadata": {
  "language_info": {
   "name": "python"
  }
 },
 "nbformat": 4,
 "nbformat_minor": 5
}
